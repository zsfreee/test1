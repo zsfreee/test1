{
  "nbformat": 4,
  "nbformat_minor": 0,
  "metadata": {
    "colab": {
      "provenance": [],
      "authorship_tag": "ABX9TyOusBtLn/4KllE8lCrr8d/i",
      "include_colab_link": true
    },
    "kernelspec": {
      "name": "python3",
      "display_name": "Python 3"
    },
    "language_info": {
      "name": "python"
    }
  },
  "cells": [
    {
      "cell_type": "markdown",
      "metadata": {
        "id": "view-in-github",
        "colab_type": "text"
      },
      "source": [
        "<a href=\"https://colab.research.google.com/github/zsfreee/test1/blob/main/Streamlit_Template_for_Colab_and_GIT.ipynb\" target=\"_parent\"><img src=\"https://colab.research.google.com/assets/colab-badge.svg\" alt=\"Open In Colab\"/></a>"
      ]
    },
    {
      "cell_type": "markdown",
      "source": [
        "**Перед началом работы нужно добавить два Secret key в Colab**\n",
        "1. **OPENAI_API_KEY** с API ключом OpenAI\n",
        "2. **GIT** с Personal access token Github"
      ],
      "metadata": {
        "id": "KnnKWhtCdSMU"
      }
    },
    {
      "cell_type": "markdown",
      "source": [
        "## Начало)"
      ],
      "metadata": {
        "id": "KNxUdkevYM_E"
      }
    },
    {
      "cell_type": "code",
      "source": [
        "#@title Загружаем ключи\n",
        "import os\n",
        "from google.colab import userdata\n",
        "\n",
        "# Загружаем ключи из Colab Secret Storage\n",
        "git_key = userdata.get(\"GIT\")  # Ключ для доступа к приватным репозиториям GitHub\n",
        "openai_key = userdata.get(\"OPENAI_API_KEY\")  # Ключ для OpenAI API\n",
        "\n",
        "# Сохраняем ключи в переменные окружения\n",
        "if git_key:\n",
        "    os.environ[\"GIT\"] = git_key\n",
        "    print(\"✅ GIT ключ загружен!\")\n",
        "\n",
        "if openai_key:\n",
        "    os.environ[\"OPENAI_API_KEY\"] = openai_key\n",
        "    print(\"✅ OpenAI ключ загружен!\")"
      ],
      "metadata": {
        "id": "kB4hnt_sOpXb",
        "cellView": "form"
      },
      "execution_count": null,
      "outputs": []
    },
    {
      "cell_type": "code",
      "source": [
        "#@title Укажите ссылку на репозиторий\n",
        "repo_url = \"https://github.com/zsfreee/Streamlit-Template-for-Colab.git\" #@param {type:\"string\"}\n",
        "\n",
        "# Извлекаем имя пользователя и название репозитория из URL\n",
        "repo_parts = repo_url.replace(\"https://github.com/\", \"\").replace(\".git\", \"\").split(\"/\")\n",
        "if len(repo_parts) == 2:\n",
        "    username, repo_name = repo_parts\n",
        "    # Формируем URL для клонирования с токеном\n",
        "    clone_url = f\"https://{os.environ['GIT']}@github.com/{username}/{repo_name}.git\"\n",
        "\n",
        "    # Клонируем репозиторий\n",
        "    !git clone {clone_url}\n",
        "    print(f\"✅ Репозиторий {repo_name} успешно клонирован!\")\n",
        "\n",
        "    # Переходим в каталог репозитория\n",
        "    %cd {repo_name}\n",
        "    print(f\"✅ Перешли в каталог {repo_name}\")\n",
        "else:\n",
        "    print(\"❌ Неверный формат URL репозитория!\")\n",
        "\n",
        "print('\\nТекущий каталог: ')\n",
        "!pwd"
      ],
      "metadata": {
        "cellView": "form",
        "id": "L8OWe3-6C0eH"
      },
      "execution_count": null,
      "outputs": []
    },
    {
      "cell_type": "code",
      "source": [
        "#@title Установка библиотек\n",
        "!pip -q install streamlit langchain_community langchain_openai openai faiss-cpu pyngrok"
      ],
      "metadata": {
        "id": "8u0b2jTs6xFu",
        "cellView": "form"
      },
      "execution_count": null,
      "outputs": []
    },
    {
      "cell_type": "markdown",
      "source": [
        "## Запуск"
      ],
      "metadata": {
        "id": "4oS2I0sLjLrz"
      }
    },
    {
      "cell_type": "code",
      "source": [
        "#@title Текущий публичный IPv4-адрес\n",
        "!wget -q -O - ipv4.icanhazip.com"
      ],
      "metadata": {
        "id": "EvV_P7T0XuA0",
        "cellView": "form"
      },
      "execution_count": null,
      "outputs": []
    },
    {
      "cell_type": "code",
      "source": [
        "#@title Запуск и создание туннеля к локальному порту 8501\n",
        "! streamlit run app.py & npx localtunnel --port 8501"
      ],
      "metadata": {
        "id": "hAG1PTh4Xu9T",
        "cellView": "form"
      },
      "execution_count": null,
      "outputs": []
    }
  ]
}